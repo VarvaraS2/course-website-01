{
  "cells": [
    {
      "cell_type": "raw",
      "metadata": {},
      "source": [
        "---\n",
        "title: \"Shipping Survey\"\n",
        "---"
      ],
      "id": "405494db"
    },
    {
      "cell_type": "markdown",
      "metadata": {},
      "source": [
        "Please take a moment to complete this quick survey and share your thoughts on shipping!\n",
        "\n",
        "<iframe src=\"https://docs.google.com/forms/d/e/1FAIpQLSdYc-HqacNXBYNyLoQdvSvvdy0W-VWK66nxs3To2kmxPpOjHQ/viewform?usp=header\" \n",
        "        width=\"640\" \n",
        "        height=\"800\" \n",
        "        frameborder=\"0\" \n",
        "        marginheight=\"0\" \n",
        "        marginwidth=\"0\">\n",
        "    Loading…\n",
        "</iframe>\n"
      ],
      "id": "1a5277fb"
    },
    {
      "cell_type": "code",
      "metadata": {},
      "source": [
        "import pandas as pd\n",
        "import random\n",
        "\n",
        "# Define possible responses\n",
        "age_groups = [\"18-23\", \"24-29\", \"30-35\", \"40-45\", \"50-55\", \"60-65\", \"70-75\"]\n",
        "occupations = [\"Student\", \"Office Worker\", \"Freelancer\", \"Retail\", \"Engineer\", \"Healthcare\", \"Other\"]\n",
        "shopping_frequency = [\"Never\", \"Occasionally\", \"Sometimes\", \"Often\", \"Always\"]\n",
        "aware_of_shipping = [\"Yes\", \"No\"]\n",
        "fast_delivery_importance = [1, 2, 3, 4, 5]\n",
        "consider_shipping_workers = [\"Yes\", \"No\"]\n",
        "experienced_delivery_delays = [\"Yes\", \"No\"]\n",
        "\n",
        "# Generate synthetic dataset with 100 responses\n",
        "data = {\n",
        "    \"Age\": [random.choice(age_groups) for _ in range(100)],\n",
        "    \"Occupation\": [random.choice(occupations) for _ in range(100)],\n",
        "    \"Shopping Frequency\": [random.choice(shopping_frequency) for _ in range(100)],\n",
        "    \"Aware of Shipping (90% of goods by sea)\": [random.choice(aware_of_shipping) for _ in range(100)],\n",
        "    \"Fast Delivery Importance (1-5)\": [random.choice(fast_delivery_importance) for _ in range(100)],\n",
        "    \"Consider Shipping Workers\": [random.choice(consider_shipping_workers) for _ in range(100)],\n",
        "    \"Experienced Delivery Delays\": [random.choice(experienced_delivery_delays) for _ in range(100)],\n",
        "}\n",
        "\n",
        "# Convert to DataFrame\n",
        "df = pd.DataFrame(data)\n",
        "\n",
        "# Save as CSV\n",
        "df.to_csv(\"shipping_survey_synthetic.csv\", index=False)\n",
        "\n",
        "# Display first few rows\n",
        "df.head()"
      ],
      "id": "2314a02e",
      "execution_count": null,
      "outputs": []
    }
  ],
  "metadata": {
    "kernelspec": {
      "display_name": "Python 3",
      "language": "python",
      "name": "python3"
    }
  },
  "nbformat": 4,
  "nbformat_minor": 5
}