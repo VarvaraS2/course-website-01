{
  "cells": [
    {
      "cell_type": "raw",
      "metadata": {},
      "source": [
        "---\n",
        "title: \"Welcome to The Human Side of Shipping\"\n",
        "---"
      ],
      "id": "c284da06"
    },
    {
      "cell_type": "markdown",
      "metadata": {},
      "source": [
        "<video width=\"800\" height=\"450\" autoplay loop muted playsinline>\n",
        "    <source src=\"Videos/video2.mp4\" type=\"video/mp4\">\n",
        "    Your browser does not support the video tag.\n",
        "</video>\n",
        "\n",
        "\n",
        "```{css}\n",
        ".intro-container {\n",
        "    max-width: 800px;\n",
        "    margin: auto;\n",
        "    text-align: left;\n",
        "    padding: 50px 20px;\n",
        "    font-family: 'Lora', serif;\n",
        "}\n",
        "\n",
        ".intro-container h1 {\n",
        "    font-size: 3rem;\n",
        "    font-weight: bold;\n",
        "    color: #002D62; /* Dark navy for a maritime theme */\n",
        "}\n",
        "\n",
        ".intro-container p {\n",
        "    font-size: 1.25rem;\n",
        "    line-height: 1.8;\n",
        "    color: #333; /* Darker for better readability */\n",
        "}\n",
        "```\n",
        "\n",
        "<div class=\"intro-container\">\n",
        "\n",
        "# **Introduction**\n",
        "\n",
        "In a world where convenience is king, few stop to consider the intricate web of logistics that brings their everyday essentials to their doorstep.\n",
        "\n",
        "**\"The Human Side of Shipping\"** is a project designed to shed light on the often-overlooked workforce behind global trade—the seafarers who endure long months at sea to ensure smooth and efficient deliveries.\n",
        "\n",
        "This project aims to bridge the gap between **consumers and the shipping industry** by analyzing public awareness, shopping behaviors, and delivery expectations.\n",
        "\n",
        "</div>\n"
      ],
      "id": "a41bc15e"
    }
  ],
  "metadata": {
    "kernelspec": {
      "display_name": "Python 3",
      "language": "python",
      "name": "python3"
    }
  },
  "nbformat": 4,
  "nbformat_minor": 5
}